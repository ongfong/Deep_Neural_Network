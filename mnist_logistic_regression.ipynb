{
  "cells": [
    {
      "cell_type": "markdown",
      "metadata": {
        "id": "view-in-github",
        "colab_type": "text"
      },
      "source": [
        "<a href=\"https://colab.research.google.com/github/ongfong/Deep_Neural_Network/blob/main/mnist_logistic_regression.ipynb\" target=\"_parent\"><img src=\"https://colab.research.google.com/assets/colab-badge.svg\" alt=\"Open In Colab\"/></a>"
      ]
    },
    {
      "cell_type": "code",
      "execution_count": 42,
      "metadata": {
        "id": "kd8c9kaeiSuX"
      },
      "outputs": [],
      "source": [
        "import numpy as np\n",
        "from keras.models import load_model\n",
        "from tensorflow.keras.datasets import mnist\n",
        "from tensorflow.keras.utils import to_categorical"
      ]
    },
    {
      "cell_type": "markdown",
      "metadata": {
        "id": "d7ux-hGAlVo2"
      },
      "source": [
        "**Load MNIST dataset**"
      ]
    },
    {
      "cell_type": "code",
      "execution_count": 43,
      "metadata": {
        "id": "QMd7a21Gn--F"
      },
      "outputs": [],
      "source": [
        "(X_train, y_train), (X_test, y_test) = mnist.load_data()"
      ]
    },
    {
      "cell_type": "markdown",
      "metadata": {
        "id": "L61kvWeVk_tY"
      },
      "source": [
        "**Preprocess the data**"
      ]
    },
    {
      "cell_type": "code",
      "execution_count": 44,
      "metadata": {
        "colab": {
          "base_uri": "https://localhost:8080/"
        },
        "id": "hVjEaMjNCikN",
        "outputId": "f8dda858-3551-46d6-f841-364db82b384d"
      },
      "outputs": [
        {
          "output_type": "stream",
          "name": "stdout",
          "text": [
            "(60000, 28, 28)\n"
          ]
        }
      ],
      "source": [
        "print(X_train.shape)"
      ]
    },
    {
      "cell_type": "code",
      "execution_count": 45,
      "metadata": {
        "id": "D2aGuk46hdNM"
      },
      "outputs": [],
      "source": [
        "# Normalizing data\n",
        "X_train = X_train.reshape(X_train.shape[0], -1) / 255\n",
        "X_test = X_test.reshape(X_test.shape[0], -1) / 255\n",
        "y_train = to_categorical(y_train)\n",
        "y_test = to_categorical(y_test)"
      ]
    },
    {
      "cell_type": "code",
      "execution_count": 46,
      "metadata": {
        "id": "m-LzuI36mB0v"
      },
      "outputs": [],
      "source": [
        "# Sigmoid function\n",
        "def sigmoid(Z):\n",
        "  s = 1 / (1 + np.exp(-Z))\n",
        "  return s"
      ]
    },
    {
      "cell_type": "code",
      "execution_count": 47,
      "metadata": {
        "id": "u73CQ3a1Q5Mo"
      },
      "outputs": [],
      "source": [
        "# Initialize parameters\n",
        "def initialize_parameters(n_feature):\n",
        "  w = np.zeros((n_feature,10))\n",
        "  b = np.zeros((1,10))\n",
        "  return w, b"
      ]
    },
    {
      "cell_type": "code",
      "execution_count": 48,
      "metadata": {
        "id": "iJJC56I9Ry0j"
      },
      "outputs": [],
      "source": [
        "def forward_prop(W, b, X):\n",
        "    Z = np.dot(X, W) + b\n",
        "    A = sigmoid(Z)\n",
        "    return A"
      ]
    },
    {
      "cell_type": "code",
      "execution_count": 49,
      "metadata": {
        "id": "by7Ctj0_Wgk5"
      },
      "outputs": [],
      "source": [
        "def compute_cost(A,Y):\n",
        "  m = Y.shape[0]\n",
        "  cost = -(1 / m) * np.sum(Y * np.log(A) + (1 - Y) * np.log(1 - A))\n",
        "  return cost"
      ]
    },
    {
      "cell_type": "code",
      "execution_count": 50,
      "metadata": {
        "id": "qnbmgW2rIAIr"
      },
      "outputs": [],
      "source": [
        "def backward_prop(A, X, Y):\n",
        "    m = Y.shape[0]\n",
        "    dZ = A - Y\n",
        "    dW = (1 / m) * np.dot(X.T, dZ)\n",
        "    db = (1 / m) * np.sum(dZ, axis=0, keepdims=True)\n",
        "    return dW, db"
      ]
    },
    {
      "cell_type": "code",
      "execution_count": 51,
      "metadata": {
        "id": "4s9ueonlegVZ"
      },
      "outputs": [],
      "source": [
        "def update_parameters(W, b, dW, db, learning_rate):\n",
        "    W = W - learning_rate * dW\n",
        "    b = b - learning_rate * db\n",
        "    return W, b"
      ]
    },
    {
      "cell_type": "code",
      "execution_count": 52,
      "metadata": {
        "id": "afz-AiV1_6Sk"
      },
      "outputs": [],
      "source": [
        "def train(X, Y, iterations, learning_rate):\n",
        "    n_features = X.shape[1]\n",
        "    W, b = initialize_parameters(n_features)\n",
        "    costs = []\n",
        "\n",
        "    for i in range(iterations):\n",
        "        A = forward_prop(W, b, X)\n",
        "        cost = compute_cost(A, Y)\n",
        "        dW, db = backward_prop(A, X, Y)\n",
        "        W, b = update_parameters(W, b, dW, db, learning_rate)\n",
        "        costs.append(cost)\n",
        "        print(\"cost after iteration: %i: %f\" % (i,cost))\n",
        "        print(W)\n",
        "        print(b)\n",
        "\n",
        "    return W, b, costs"
      ]
    },
    {
      "cell_type": "markdown",
      "metadata": {
        "id": "5qfeGG8CSMjZ"
      },
      "source": [
        "**Training data**"
      ]
    },
    {
      "cell_type": "code",
      "execution_count": null,
      "metadata": {
        "id": "EyKBWBqC_7E8"
      },
      "outputs": [],
      "source": [
        "W, b, costs = train(X_train, y_train, iterations=1000, learning_rate=0.01)"
      ]
    },
    {
      "cell_type": "code",
      "execution_count": 54,
      "metadata": {
        "id": "OopfQyz3_-aD"
      },
      "outputs": [],
      "source": [
        "Y_pred = forward_prop(W, b, X_test)\n",
        "Y_pred = np.argmax(Y_pred, axis=1)\n",
        "y_test = np.argmax(y_test, axis=1)"
      ]
    },
    {
      "cell_type": "markdown",
      "metadata": {
        "id": "pwxFVQ_fSVjt"
      },
      "source": [
        "**Test data how many get accuracy**"
      ]
    },
    {
      "cell_type": "code",
      "execution_count": 57,
      "metadata": {
        "id": "xtGN2pQTAA_q",
        "colab": {
          "base_uri": "https://localhost:8080/"
        },
        "outputId": "1719ad85-56ac-4e4e-ec47-904391a42ac6"
      },
      "outputs": [
        {
          "output_type": "stream",
          "name": "stdout",
          "text": [
            "Accuracy: 85.72%\n"
          ]
        }
      ],
      "source": [
        "accuracy = np.mean(Y_pred == y_test)\n",
        "print(f\"Accuracy: {accuracy * 100}%\")"
      ]
    }
  ],
  "metadata": {
    "colab": {
      "provenance": [],
      "authorship_tag": "ABX9TyNHJTwlDTdoFfhwR+arqQ7F",
      "include_colab_link": true
    },
    "kernelspec": {
      "display_name": "Python 3",
      "name": "python3"
    },
    "language_info": {
      "name": "python"
    }
  },
  "nbformat": 4,
  "nbformat_minor": 0
}